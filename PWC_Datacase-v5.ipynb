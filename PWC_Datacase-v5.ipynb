{
 "cells": [
  {
   "cell_type": "markdown",
   "metadata": {},
   "source": [
    "Загрузка библиотек,файлов и создание функции для обработки"
   ]
  },
  {
   "cell_type": "code",
   "execution_count": 1,
   "metadata": {},
   "outputs": [],
   "source": [
    "import pandas as pd #импорт библеотеки \n",
    "from sklearn.neighbors import KNeighborsClassifier #думал, что молодец и сделаю крутую модель для кластерации всех msisdn =)(как я ошибался)\n",
    "import datetime #импорт для работы с форматом даты"
   ]
  },
  {
   "cell_type": "code",
   "execution_count": 61,
   "metadata": {},
   "outputs": [],
   "source": [
    "#загрузил файлы\n",
    "facts=pd.read_excel('01_Facts.xlsx')\n",
    "event=pd.read_excel('04_event_type.xlsx')\n",
    "devices=pd.read_csv('03_устройства.csv',sep=',\"\"',encoding='utf-8',decimal=',',engine='python')\n",
    "data_test=pd.read_csv('02_Data_test.csv',sep=';',encoding='utf-8',decimal=\",\",engine='python')"
   ]
  },
  {
   "cell_type": "code",
   "execution_count": 57,
   "metadata": {},
   "outputs": [
    {
     "name": "stdout",
     "output_type": "stream",
     "text": [
      "<class 'pandas.core.frame.DataFrame'>\n",
      "RangeIndex: 73263 entries, 0 to 73262\n",
      "Data columns (total 4 columns):\n",
      "tac         73263 non-null object\n",
      "vendor      73263 non-null object\n",
      "platform    73263 non-null object\n",
      "type        73263 non-null object\n",
      "dtypes: object(4)\n",
      "memory usage: 2.2+ MB\n",
      "None\n"
     ]
    },
    {
     "data": {
      "text/html": [
       "<div>\n",
       "<style scoped>\n",
       "    .dataframe tbody tr th:only-of-type {\n",
       "        vertical-align: middle;\n",
       "    }\n",
       "\n",
       "    .dataframe tbody tr th {\n",
       "        vertical-align: top;\n",
       "    }\n",
       "\n",
       "    .dataframe thead th {\n",
       "        text-align: right;\n",
       "    }\n",
       "</style>\n",
       "<table border=\"1\" class=\"dataframe\">\n",
       "  <thead>\n",
       "    <tr style=\"text-align: right;\">\n",
       "      <th></th>\n",
       "      <th>tac</th>\n",
       "      <th>vendor</th>\n",
       "      <th>platform</th>\n",
       "      <th>type</th>\n",
       "    </tr>\n",
       "  </thead>\n",
       "  <tbody>\n",
       "    <tr>\n",
       "      <th>0</th>\n",
       "      <td>00100429</td>\n",
       "      <td>PROTO</td>\n",
       "      <td>Proprietary</td>\n",
       "      <td>Phone</td>\n",
       "    </tr>\n",
       "    <tr>\n",
       "      <th>1</th>\n",
       "      <td>00100430</td>\n",
       "      <td>PROTO</td>\n",
       "      <td>Proprietary</td>\n",
       "      <td>Phone</td>\n",
       "    </tr>\n",
       "    <tr>\n",
       "      <th>2</th>\n",
       "      <td>00100431</td>\n",
       "      <td>PROTO</td>\n",
       "      <td>Proprietary</td>\n",
       "      <td>Phone</td>\n",
       "    </tr>\n",
       "    <tr>\n",
       "      <th>3</th>\n",
       "      <td>00100432</td>\n",
       "      <td>PROTO</td>\n",
       "      <td>Proprietary</td>\n",
       "      <td>Phone</td>\n",
       "    </tr>\n",
       "    <tr>\n",
       "      <th>4</th>\n",
       "      <td>00100433</td>\n",
       "      <td>PROTO</td>\n",
       "      <td>Proprietary</td>\n",
       "      <td>Phone</td>\n",
       "    </tr>\n",
       "  </tbody>\n",
       "</table>\n",
       "</div>"
      ],
      "text/plain": [
       "        tac vendor     platform   type\n",
       "0  00100429  PROTO  Proprietary  Phone\n",
       "1  00100430  PROTO  Proprietary  Phone\n",
       "2  00100431  PROTO  Proprietary  Phone\n",
       "3  00100432  PROTO  Proprietary  Phone\n",
       "4  00100433  PROTO  Proprietary  Phone"
      ]
     },
     "execution_count": 57,
     "metadata": {},
     "output_type": "execute_result"
    }
   ],
   "source": [
    "#Немного хаотичного форматирования \n",
    "devices.rename(columns={'\"tac':'tac','vendor\"\"':'vendor','platform\"\"':'platform','type\"\"\"':'type'},inplace=True)\n",
    "devices1=devices[['tac','vendor','platform','type']].replace({'\\\"':''},regex=True)\n",
    "print(devices1.info())\n",
    "devices1.head(5)\n"
   ]
  },
  {
   "cell_type": "code",
   "execution_count": 33,
   "metadata": {},
   "outputs": [],
   "source": [
    "#Функция, которая получает timestamp и обработно выводит в формате \"2013-25-03\" \n",
    "def time(x):\n",
    "    value = datetime.datetime.fromtimestamp(x/1000)\n",
    "    return(value.strftime('%Y-%m-%d'))#'%Y-%m-%d-%H.%M.%S' полный формат даты"
   ]
  },
  {
   "cell_type": "code",
   "execution_count": 59,
   "metadata": {},
   "outputs": [],
   "source": [
    "#форматирование входящего Датафрейма \n",
    "def prepoc(df_input):\n",
    "    df_output=df_input.copy()\n",
    "    #применяем функцию сверху\n",
    "    df_output['date']=df_output['tstamp'].apply(time)\n",
    "    #приводим к строчным данным\n",
    "    df_output[['cid','lat','long','date']]=df_output[['cid','lat','long','date']].astype(str)\n",
    "    #соединил место и время соединения(думал, что так можно будет сделать уникальное значение где ИД абонентов пересекаются)\n",
    "    df_output['date_place']=df_output[['long','lat','date']].apply(lambda x:'-'.join(x), axis=1) \n",
    "    #удалил все лишнее(чтобы сразу загрузить данные в модель). По крайней мере я так думал =)\n",
    "    df_output=df_output.drop(['long','lat','date','lac','cid','imei','event_type','max_dist','cell_type','start_angle','end_angle','tstamp'],axis=1)\n",
    "    \n",
    "    return df_output"
   ]
  },
  {
   "cell_type": "code",
   "execution_count": 62,
   "metadata": {},
   "outputs": [
    {
     "name": "stdout",
     "output_type": "stream",
     "text": [
      "<class 'pandas.core.frame.DataFrame'>\n",
      "RangeIndex: 174123 entries, 0 to 174122\n",
      "Data columns (total 2 columns):\n",
      "msisdn        174123 non-null int64\n",
      "date_place    174123 non-null object\n",
      "dtypes: int64(1), object(1)\n",
      "memory usage: 2.7+ MB\n",
      "None\n"
     ]
    },
    {
     "data": {
      "text/html": [
       "<div>\n",
       "<style scoped>\n",
       "    .dataframe tbody tr th:only-of-type {\n",
       "        vertical-align: middle;\n",
       "    }\n",
       "\n",
       "    .dataframe tbody tr th {\n",
       "        vertical-align: top;\n",
       "    }\n",
       "\n",
       "    .dataframe thead th {\n",
       "        text-align: right;\n",
       "    }\n",
       "</style>\n",
       "<table border=\"1\" class=\"dataframe\">\n",
       "  <thead>\n",
       "    <tr style=\"text-align: right;\">\n",
       "      <th></th>\n",
       "      <th>msisdn</th>\n",
       "      <th>date_place</th>\n",
       "    </tr>\n",
       "  </thead>\n",
       "  <tbody>\n",
       "    <tr>\n",
       "      <th>0</th>\n",
       "      <td>158529599791</td>\n",
       "      <td>37.9305-55.7815-2013-05-22</td>\n",
       "    </tr>\n",
       "    <tr>\n",
       "      <th>1</th>\n",
       "      <td>158520145943</td>\n",
       "      <td>37.4239-55.7426-2013-05-22</td>\n",
       "    </tr>\n",
       "    <tr>\n",
       "      <th>2</th>\n",
       "      <td>158521798391</td>\n",
       "      <td>37.7034-55.5803-2013-05-22</td>\n",
       "    </tr>\n",
       "    <tr>\n",
       "      <th>3</th>\n",
       "      <td>158537830573</td>\n",
       "      <td>37.7895-55.7042-2013-05-22</td>\n",
       "    </tr>\n",
       "    <tr>\n",
       "      <th>4</th>\n",
       "      <td>158510204039</td>\n",
       "      <td>37.19-55.8308-2013-05-22</td>\n",
       "    </tr>\n",
       "  </tbody>\n",
       "</table>\n",
       "</div>"
      ],
      "text/plain": [
       "         msisdn                  date_place\n",
       "0  158529599791  37.9305-55.7815-2013-05-22\n",
       "1  158520145943  37.4239-55.7426-2013-05-22\n",
       "2  158521798391  37.7034-55.5803-2013-05-22\n",
       "3  158537830573  37.7895-55.7042-2013-05-22\n",
       "4  158510204039    37.19-55.8308-2013-05-22"
      ]
     },
     "execution_count": 62,
     "metadata": {},
     "output_type": "execute_result"
    }
   ],
   "source": [
    "data_view=data_test.pipe(prepoc)#применил функцию на датафрейм\n",
    "print(data_view.info())\n",
    "data_view.head()"
   ]
  },
  {
   "cell_type": "code",
   "execution_count": 15,
   "metadata": {},
   "outputs": [
    {
     "name": "stdout",
     "output_type": "stream",
     "text": [
      "31\n"
     ]
    }
   ],
   "source": [
    "data=data_view.groupby('msisdn').count()\n",
    "print(len(data[data['date_place']<2]))"
   ]
  },
  {
   "cell_type": "markdown",
   "metadata": {},
   "source": [
    "сохранение в файл\n"
   ]
  },
  {
   "cell_type": "code",
   "execution_count": 57,
   "metadata": {},
   "outputs": [
    {
     "name": "stdout",
     "output_type": "stream",
     "text": [
      "Wall time: 268 ms\n"
     ]
    }
   ],
   "source": [
    "%%time\n",
    "#Сюда записал бы результат работы \n",
    "writer = pd.ExcelWriter('data1.xlsx', engine='xlsxwriter')\n",
    "data.to_excel(writer,sheet_name='1')"
   ]
  }
 ],
 "metadata": {
  "kernelspec": {
   "display_name": "Python 3",
   "language": "python",
   "name": "python3"
  },
  "language_info": {
   "codemirror_mode": {
    "name": "ipython",
    "version": 3
   },
   "file_extension": ".py",
   "mimetype": "text/x-python",
   "name": "python",
   "nbconvert_exporter": "python",
   "pygments_lexer": "ipython3",
   "version": "3.6.5"
  }
 },
 "nbformat": 4,
 "nbformat_minor": 2
}
